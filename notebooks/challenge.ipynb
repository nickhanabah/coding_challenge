{
 "cells": [
  {
   "cell_type": "markdown",
   "metadata": {},
   "source": [
    "# Import Libraries"
   ]
  },
  {
   "cell_type": "code",
   "execution_count": 54,
   "metadata": {},
   "outputs": [
    {
     "ename": "ModuleNotFoundError",
     "evalue": "No module named 'dateutil.rrule'",
     "output_type": "error",
     "traceback": [
      "\u001b[0;31m---------------------------------------------------------------------------\u001b[0m",
      "\u001b[0;31mModuleNotFoundError\u001b[0m                       Traceback (most recent call last)",
      "Cell \u001b[0;32mIn[54], line 10\u001b[0m\n\u001b[1;32m      8\u001b[0m \u001b[38;5;28;01mimport\u001b[39;00m \u001b[38;5;21;01mnumpy\u001b[39;00m \u001b[38;5;28;01mas\u001b[39;00m \u001b[38;5;21;01mnp\u001b[39;00m\n\u001b[1;32m      9\u001b[0m \u001b[38;5;28;01mfrom\u001b[39;00m \u001b[38;5;21;01msklearn\u001b[39;00m\u001b[38;5;21;01m.\u001b[39;00m\u001b[38;5;21;01mmodel_selection\u001b[39;00m \u001b[38;5;28;01mimport\u001b[39;00m train_test_split\n\u001b[0;32m---> 10\u001b[0m \u001b[38;5;28;01mimport\u001b[39;00m \u001b[38;5;21;01mmatplotlib\u001b[39;00m\u001b[38;5;21;01m.\u001b[39;00m\u001b[38;5;21;01mpyplot\u001b[39;00m \u001b[38;5;28;01mas\u001b[39;00m \u001b[38;5;21;01mplt\u001b[39;00m\n",
      "File \u001b[0;32m~/.local/lib/python3.10/site-packages/matplotlib/pyplot.py:66\u001b[0m\n\u001b[1;32m     63\u001b[0m \u001b[38;5;28;01mfrom\u001b[39;00m \u001b[38;5;21;01mmatplotlib\u001b[39;00m \u001b[38;5;28;01mimport\u001b[39;00m _docstring\n\u001b[1;32m     64\u001b[0m \u001b[38;5;28;01mfrom\u001b[39;00m \u001b[38;5;21;01mmatplotlib\u001b[39;00m\u001b[38;5;21;01m.\u001b[39;00m\u001b[38;5;21;01mbackend_bases\u001b[39;00m \u001b[38;5;28;01mimport\u001b[39;00m (\n\u001b[1;32m     65\u001b[0m     FigureCanvasBase, FigureManagerBase, MouseButton)\n\u001b[0;32m---> 66\u001b[0m \u001b[38;5;28;01mfrom\u001b[39;00m \u001b[38;5;21;01mmatplotlib\u001b[39;00m\u001b[38;5;21;01m.\u001b[39;00m\u001b[38;5;21;01mfigure\u001b[39;00m \u001b[38;5;28;01mimport\u001b[39;00m Figure, FigureBase, figaspect\n\u001b[1;32m     67\u001b[0m \u001b[38;5;28;01mfrom\u001b[39;00m \u001b[38;5;21;01mmatplotlib\u001b[39;00m\u001b[38;5;21;01m.\u001b[39;00m\u001b[38;5;21;01mgridspec\u001b[39;00m \u001b[38;5;28;01mimport\u001b[39;00m GridSpec, SubplotSpec\n\u001b[1;32m     68\u001b[0m \u001b[38;5;28;01mfrom\u001b[39;00m \u001b[38;5;21;01mmatplotlib\u001b[39;00m \u001b[38;5;28;01mimport\u001b[39;00m rcsetup, rcParamsDefault, rcParamsOrig\n",
      "File \u001b[0;32m~/.local/lib/python3.10/site-packages/matplotlib/figure.py:43\u001b[0m\n\u001b[1;32m     40\u001b[0m \u001b[38;5;28;01mimport\u001b[39;00m \u001b[38;5;21;01mnumpy\u001b[39;00m \u001b[38;5;28;01mas\u001b[39;00m \u001b[38;5;21;01mnp\u001b[39;00m\n\u001b[1;32m     42\u001b[0m \u001b[38;5;28;01mimport\u001b[39;00m \u001b[38;5;21;01mmatplotlib\u001b[39;00m \u001b[38;5;28;01mas\u001b[39;00m \u001b[38;5;21;01mmpl\u001b[39;00m\n\u001b[0;32m---> 43\u001b[0m \u001b[38;5;28;01mfrom\u001b[39;00m \u001b[38;5;21;01mmatplotlib\u001b[39;00m \u001b[38;5;28;01mimport\u001b[39;00m _blocking_input, backend_bases, _docstring, projections\n\u001b[1;32m     44\u001b[0m \u001b[38;5;28;01mfrom\u001b[39;00m \u001b[38;5;21;01mmatplotlib\u001b[39;00m\u001b[38;5;21;01m.\u001b[39;00m\u001b[38;5;21;01martist\u001b[39;00m \u001b[38;5;28;01mimport\u001b[39;00m (\n\u001b[1;32m     45\u001b[0m     Artist, allow_rasterization, _finalize_rasterization)\n\u001b[1;32m     46\u001b[0m \u001b[38;5;28;01mfrom\u001b[39;00m \u001b[38;5;21;01mmatplotlib\u001b[39;00m\u001b[38;5;21;01m.\u001b[39;00m\u001b[38;5;21;01mbackend_bases\u001b[39;00m \u001b[38;5;28;01mimport\u001b[39;00m (\n\u001b[1;32m     47\u001b[0m     DrawEvent, FigureCanvasBase, NonGuiException, MouseButton, _get_renderer)\n",
      "File \u001b[0;32m~/.local/lib/python3.10/site-packages/matplotlib/projections/__init__.py:55\u001b[0m\n\u001b[1;32m      1\u001b[0m \u001b[38;5;124;03m\"\"\"\u001b[39;00m\n\u001b[1;32m      2\u001b[0m \u001b[38;5;124;03mNon-separable transforms that map from data space to screen space.\u001b[39;00m\n\u001b[1;32m      3\u001b[0m \n\u001b[0;32m   (...)\u001b[0m\n\u001b[1;32m     52\u001b[0m \u001b[38;5;124;03m`matplotlib.projections.polar` may also be of interest.\u001b[39;00m\n\u001b[1;32m     53\u001b[0m \u001b[38;5;124;03m\"\"\"\u001b[39;00m\n\u001b[0;32m---> 55\u001b[0m \u001b[38;5;28;01mfrom\u001b[39;00m \u001b[38;5;21;01m.\u001b[39;00m\u001b[38;5;21;01m.\u001b[39;00m \u001b[38;5;28;01mimport\u001b[39;00m axes, _docstring\n\u001b[1;32m     56\u001b[0m \u001b[38;5;28;01mfrom\u001b[39;00m \u001b[38;5;21;01m.\u001b[39;00m\u001b[38;5;21;01mgeo\u001b[39;00m \u001b[38;5;28;01mimport\u001b[39;00m AitoffAxes, HammerAxes, LambertAxes, MollweideAxes\n\u001b[1;32m     57\u001b[0m \u001b[38;5;28;01mfrom\u001b[39;00m \u001b[38;5;21;01m.\u001b[39;00m\u001b[38;5;21;01mpolar\u001b[39;00m \u001b[38;5;28;01mimport\u001b[39;00m PolarAxes\n",
      "File \u001b[0;32m~/.local/lib/python3.10/site-packages/matplotlib/axes/__init__.py:2\u001b[0m\n\u001b[1;32m      1\u001b[0m \u001b[38;5;28;01mfrom\u001b[39;00m \u001b[38;5;21;01m.\u001b[39;00m \u001b[38;5;28;01mimport\u001b[39;00m _base\n\u001b[0;32m----> 2\u001b[0m \u001b[38;5;28;01mfrom\u001b[39;00m \u001b[38;5;21;01m.\u001b[39;00m\u001b[38;5;21;01m_axes\u001b[39;00m \u001b[38;5;28;01mimport\u001b[39;00m \u001b[38;5;241m*\u001b[39m\n\u001b[1;32m      4\u001b[0m \u001b[38;5;66;03m# Backcompat.\u001b[39;00m\n\u001b[1;32m      5\u001b[0m \u001b[38;5;28;01mfrom\u001b[39;00m \u001b[38;5;21;01m.\u001b[39;00m\u001b[38;5;21;01m_axes\u001b[39;00m \u001b[38;5;28;01mimport\u001b[39;00m Axes \u001b[38;5;28;01mas\u001b[39;00m Subplot\n",
      "File \u001b[0;32m~/.local/lib/python3.10/site-packages/matplotlib/axes/_axes.py:16\u001b[0m\n\u001b[1;32m     14\u001b[0m \u001b[38;5;28;01mimport\u001b[39;00m \u001b[38;5;21;01mmatplotlib\u001b[39;00m\u001b[38;5;21;01m.\u001b[39;00m\u001b[38;5;21;01mcolors\u001b[39;00m \u001b[38;5;28;01mas\u001b[39;00m \u001b[38;5;21;01mmcolors\u001b[39;00m\n\u001b[1;32m     15\u001b[0m \u001b[38;5;28;01mimport\u001b[39;00m \u001b[38;5;21;01mmatplotlib\u001b[39;00m\u001b[38;5;21;01m.\u001b[39;00m\u001b[38;5;21;01mcontour\u001b[39;00m \u001b[38;5;28;01mas\u001b[39;00m \u001b[38;5;21;01mmcontour\u001b[39;00m\n\u001b[0;32m---> 16\u001b[0m \u001b[38;5;28;01mimport\u001b[39;00m \u001b[38;5;21;01mmatplotlib\u001b[39;00m\u001b[38;5;21;01m.\u001b[39;00m\u001b[38;5;21;01mdates\u001b[39;00m  \u001b[38;5;66;03m# noqa # Register date unit converter as side effect.\u001b[39;00m\n\u001b[1;32m     17\u001b[0m \u001b[38;5;28;01mimport\u001b[39;00m \u001b[38;5;21;01mmatplotlib\u001b[39;00m\u001b[38;5;21;01m.\u001b[39;00m\u001b[38;5;21;01mimage\u001b[39;00m \u001b[38;5;28;01mas\u001b[39;00m \u001b[38;5;21;01mmimage\u001b[39;00m\n\u001b[1;32m     18\u001b[0m \u001b[38;5;28;01mimport\u001b[39;00m \u001b[38;5;21;01mmatplotlib\u001b[39;00m\u001b[38;5;21;01m.\u001b[39;00m\u001b[38;5;21;01mlegend\u001b[39;00m \u001b[38;5;28;01mas\u001b[39;00m \u001b[38;5;21;01mmlegend\u001b[39;00m\n",
      "File \u001b[0;32m~/.local/lib/python3.10/site-packages/matplotlib/dates.py:181\u001b[0m\n\u001b[1;32m    178\u001b[0m \u001b[38;5;28;01mimport\u001b[39;00m \u001b[38;5;21;01mlogging\u001b[39;00m\n\u001b[1;32m    179\u001b[0m \u001b[38;5;28;01mimport\u001b[39;00m \u001b[38;5;21;01mre\u001b[39;00m\n\u001b[0;32m--> 181\u001b[0m \u001b[38;5;28;01mfrom\u001b[39;00m \u001b[38;5;21;01mdateutil\u001b[39;00m\u001b[38;5;21;01m.\u001b[39;00m\u001b[38;5;21;01mrrule\u001b[39;00m \u001b[38;5;28;01mimport\u001b[39;00m (rrule, MO, TU, WE, TH, FR, SA, SU, YEARLY,\n\u001b[1;32m    182\u001b[0m                             MONTHLY, WEEKLY, DAILY, HOURLY, MINUTELY,\n\u001b[1;32m    183\u001b[0m                             SECONDLY)\n\u001b[1;32m    184\u001b[0m \u001b[38;5;28;01mfrom\u001b[39;00m \u001b[38;5;21;01mdateutil\u001b[39;00m\u001b[38;5;21;01m.\u001b[39;00m\u001b[38;5;21;01mrelativedelta\u001b[39;00m \u001b[38;5;28;01mimport\u001b[39;00m relativedelta\n\u001b[1;32m    185\u001b[0m \u001b[38;5;28;01mimport\u001b[39;00m \u001b[38;5;21;01mdateutil\u001b[39;00m\u001b[38;5;21;01m.\u001b[39;00m\u001b[38;5;21;01mparser\u001b[39;00m\n",
      "\u001b[0;31mModuleNotFoundError\u001b[0m: No module named 'dateutil.rrule'"
     ]
    }
   ],
   "source": [
    "import pandas as pd\n",
    "import arff\n",
    "from xgboost import XGBRegressor\n",
    "import xgboost as xgb\n",
    "from sklearn.model_selection import RandomizedSearchCV\n",
    "import scipy.stats as stats\n",
    "import scipy.stats as ss\n",
    "import numpy as np\n",
    "from sklearn.model_selection import train_test_split\n",
    "import matplotlib.pyplot as plt"
   ]
  },
  {
   "cell_type": "markdown",
   "metadata": {},
   "source": [
    "# Preprocessing and Creation of DF"
   ]
  },
  {
   "cell_type": "code",
   "execution_count": 39,
   "metadata": {},
   "outputs": [],
   "source": [
    "\n",
    "\n",
    "data_freq = arff.load('/workspaces/coding_challenge/df/freMTPL2freq.arff')\n",
    "df_freq = pd.DataFrame(data_freq, columns=[\"IDpol\", \"ClaimNb\", \"Exposure\", \"Area\", \"VehPower\", \"VehAge\",\"DrivAge\", \"BonusMalus\", \"VehBrand\", \"VehGas\", \"Density\", \"Region\"])\n",
    "data_sev = arff.load('/workspaces/coding_challenge/df/freMTPL2sev.arff')\n",
    "df_sev = pd.DataFrame(data_sev, columns=[\"IDpol\", \"ClaimAmount\"])\n",
    "\n",
    "# change dtypes of ID to int \n",
    "df_freq['IDpol'] = df_freq['IDpol'].astype(int)\n",
    "# also I set the ID as index\n",
    "df_freq.set_index(\"IDpol\", inplace=True)\n",
    "\n",
    "# same for df_sev\n",
    "df_sev['IDpol'] = df_sev['IDpol'].astype(int)\n",
    "\n",
    "# check on missing values in both datasets\n",
    "df_freq.isnull().sum() # --> None \n",
    "df_sev.isnull().sum() # --> None\n",
    "\n",
    "#I want one row per ID and the sum of all claim amounts for that ID\n",
    "df_sev = df_sev.groupby(\"IDpol\").sum()\n",
    "#Now I join the two datasets\n",
    "df = df_freq.join(df_sev, how=\"left\")\n",
    "\n",
    "# I assume for the rest of the data that now row in df_sev means claim amount = 0\n",
    "df[\"ClaimAmount\"] = df[\"ClaimAmount\"].fillna(0)\n",
    "\n",
    "# And create the new dependent variable ClaimAmount/Exposure\n",
    "df[\"ClaimAmountDivByExposure\"] = df[\"ClaimAmount\"]/df[\"Exposure\"]"
   ]
  },
  {
   "cell_type": "markdown",
   "metadata": {},
   "source": [
    "# Summary statistics"
   ]
  },
  {
   "cell_type": "code",
   "execution_count": 34,
   "metadata": {},
   "outputs": [
    {
     "data": {
      "text/html": [
       "<div>\n",
       "<style scoped>\n",
       "    .dataframe tbody tr th:only-of-type {\n",
       "        vertical-align: middle;\n",
       "    }\n",
       "\n",
       "    .dataframe tbody tr th {\n",
       "        vertical-align: top;\n",
       "    }\n",
       "\n",
       "    .dataframe thead th {\n",
       "        text-align: right;\n",
       "    }\n",
       "</style>\n",
       "<table border=\"1\" class=\"dataframe\">\n",
       "  <thead>\n",
       "    <tr style=\"text-align: right;\">\n",
       "      <th></th>\n",
       "      <th>ClaimNb</th>\n",
       "      <th>Exposure</th>\n",
       "      <th>Area</th>\n",
       "      <th>VehPower</th>\n",
       "      <th>VehAge</th>\n",
       "      <th>DrivAge</th>\n",
       "      <th>BonusMalus</th>\n",
       "      <th>VehBrand</th>\n",
       "      <th>VehGas</th>\n",
       "      <th>Density</th>\n",
       "      <th>Region</th>\n",
       "      <th>ClaimAmount</th>\n",
       "      <th>ClaimAmountDivByExposure</th>\n",
       "    </tr>\n",
       "    <tr>\n",
       "      <th>IDpol</th>\n",
       "      <th></th>\n",
       "      <th></th>\n",
       "      <th></th>\n",
       "      <th></th>\n",
       "      <th></th>\n",
       "      <th></th>\n",
       "      <th></th>\n",
       "      <th></th>\n",
       "      <th></th>\n",
       "      <th></th>\n",
       "      <th></th>\n",
       "      <th></th>\n",
       "      <th></th>\n",
       "    </tr>\n",
       "  </thead>\n",
       "  <tbody>\n",
       "  </tbody>\n",
       "</table>\n",
       "</div>"
      ],
      "text/plain": [
       "Empty DataFrame\n",
       "Columns: [ClaimNb, Exposure, Area, VehPower, VehAge, DrivAge, BonusMalus, VehBrand, VehGas, Density, Region, ClaimAmount, ClaimAmountDivByExposure]\n",
       "Index: []"
      ]
     },
     "execution_count": 34,
     "metadata": {},
     "output_type": "execute_result"
    }
   ],
   "source": [
    "# get rows with claim amount not null \n",
    "df[df.ClaimAmount.notnull()]\n",
    "# check if there are claim amounts for claim number 0\n",
    "df[(df.ClaimNb == 0) & (df.ClaimAmount != 0.0)] # --> 0 rows"
   ]
  },
  {
   "cell_type": "code",
   "execution_count": 55,
   "metadata": {},
   "outputs": [
    {
     "data": {
      "text/html": [
       "<div>\n",
       "<style scoped>\n",
       "    .dataframe tbody tr th:only-of-type {\n",
       "        vertical-align: middle;\n",
       "    }\n",
       "\n",
       "    .dataframe tbody tr th {\n",
       "        vertical-align: top;\n",
       "    }\n",
       "\n",
       "    .dataframe thead th {\n",
       "        text-align: right;\n",
       "    }\n",
       "</style>\n",
       "<table border=\"1\" class=\"dataframe\">\n",
       "  <thead>\n",
       "    <tr style=\"text-align: right;\">\n",
       "      <th></th>\n",
       "      <th>VehPower</th>\n",
       "      <th>VehAge</th>\n",
       "      <th>DrivAge</th>\n",
       "      <th>BonusMalus</th>\n",
       "      <th>Density</th>\n",
       "      <th>ClaimAmountDivByExposure</th>\n",
       "    </tr>\n",
       "  </thead>\n",
       "  <tbody>\n",
       "    <tr>\n",
       "      <th>count</th>\n",
       "      <td>678013.000000</td>\n",
       "      <td>678013.000000</td>\n",
       "      <td>678013.000000</td>\n",
       "      <td>678013.000000</td>\n",
       "      <td>678013.000000</td>\n",
       "      <td>6.780130e+05</td>\n",
       "    </tr>\n",
       "    <tr>\n",
       "      <th>mean</th>\n",
       "      <td>6.454631</td>\n",
       "      <td>7.044265</td>\n",
       "      <td>45.499122</td>\n",
       "      <td>59.761502</td>\n",
       "      <td>1792.422405</td>\n",
       "      <td>3.832608e+02</td>\n",
       "    </tr>\n",
       "    <tr>\n",
       "      <th>std</th>\n",
       "      <td>2.050906</td>\n",
       "      <td>5.666232</td>\n",
       "      <td>14.137444</td>\n",
       "      <td>15.636658</td>\n",
       "      <td>3958.646564</td>\n",
       "      <td>3.682070e+04</td>\n",
       "    </tr>\n",
       "    <tr>\n",
       "      <th>min</th>\n",
       "      <td>4.000000</td>\n",
       "      <td>0.000000</td>\n",
       "      <td>18.000000</td>\n",
       "      <td>50.000000</td>\n",
       "      <td>1.000000</td>\n",
       "      <td>0.000000e+00</td>\n",
       "    </tr>\n",
       "    <tr>\n",
       "      <th>25%</th>\n",
       "      <td>5.000000</td>\n",
       "      <td>2.000000</td>\n",
       "      <td>34.000000</td>\n",
       "      <td>50.000000</td>\n",
       "      <td>92.000000</td>\n",
       "      <td>0.000000e+00</td>\n",
       "    </tr>\n",
       "    <tr>\n",
       "      <th>50%</th>\n",
       "      <td>6.000000</td>\n",
       "      <td>6.000000</td>\n",
       "      <td>44.000000</td>\n",
       "      <td>50.000000</td>\n",
       "      <td>393.000000</td>\n",
       "      <td>0.000000e+00</td>\n",
       "    </tr>\n",
       "    <tr>\n",
       "      <th>75%</th>\n",
       "      <td>7.000000</td>\n",
       "      <td>11.000000</td>\n",
       "      <td>55.000000</td>\n",
       "      <td>64.000000</td>\n",
       "      <td>1658.000000</td>\n",
       "      <td>0.000000e+00</td>\n",
       "    </tr>\n",
       "    <tr>\n",
       "      <th>max</th>\n",
       "      <td>15.000000</td>\n",
       "      <td>100.000000</td>\n",
       "      <td>100.000000</td>\n",
       "      <td>230.000000</td>\n",
       "      <td>27000.000000</td>\n",
       "      <td>1.852455e+07</td>\n",
       "    </tr>\n",
       "  </tbody>\n",
       "</table>\n",
       "</div>"
      ],
      "text/plain": [
       "            VehPower         VehAge        DrivAge     BonusMalus  \\\n",
       "count  678013.000000  678013.000000  678013.000000  678013.000000   \n",
       "mean        6.454631       7.044265      45.499122      59.761502   \n",
       "std         2.050906       5.666232      14.137444      15.636658   \n",
       "min         4.000000       0.000000      18.000000      50.000000   \n",
       "25%         5.000000       2.000000      34.000000      50.000000   \n",
       "50%         6.000000       6.000000      44.000000      50.000000   \n",
       "75%         7.000000      11.000000      55.000000      64.000000   \n",
       "max        15.000000     100.000000     100.000000     230.000000   \n",
       "\n",
       "             Density  ClaimAmountDivByExposure  \n",
       "count  678013.000000              6.780130e+05  \n",
       "mean     1792.422405              3.832608e+02  \n",
       "std      3958.646564              3.682070e+04  \n",
       "min         1.000000              0.000000e+00  \n",
       "25%        92.000000              0.000000e+00  \n",
       "50%       393.000000              0.000000e+00  \n",
       "75%      1658.000000              0.000000e+00  \n",
       "max     27000.000000              1.852455e+07  "
      ]
     },
     "execution_count": 55,
     "metadata": {},
     "output_type": "execute_result"
    }
   ],
   "source": [
    "# get summary statistics for the dataset (continuous variables only)\n",
    "df.describe()"
   ]
  },
  {
   "cell_type": "code",
   "execution_count": 36,
   "metadata": {},
   "outputs": [
    {
     "data": {
      "text/html": [
       "<div>\n",
       "<style scoped>\n",
       "    .dataframe tbody tr th:only-of-type {\n",
       "        vertical-align: middle;\n",
       "    }\n",
       "\n",
       "    .dataframe tbody tr th {\n",
       "        vertical-align: top;\n",
       "    }\n",
       "\n",
       "    .dataframe thead th {\n",
       "        text-align: right;\n",
       "    }\n",
       "</style>\n",
       "<table border=\"1\" class=\"dataframe\">\n",
       "  <thead>\n",
       "    <tr style=\"text-align: right;\">\n",
       "      <th></th>\n",
       "      <th>Area</th>\n",
       "      <th>VehBrand</th>\n",
       "      <th>VehGas</th>\n",
       "      <th>Region</th>\n",
       "    </tr>\n",
       "  </thead>\n",
       "  <tbody>\n",
       "    <tr>\n",
       "      <th>count</th>\n",
       "      <td>678013</td>\n",
       "      <td>678013</td>\n",
       "      <td>678013</td>\n",
       "      <td>678013</td>\n",
       "    </tr>\n",
       "    <tr>\n",
       "      <th>unique</th>\n",
       "      <td>6</td>\n",
       "      <td>11</td>\n",
       "      <td>2</td>\n",
       "      <td>22</td>\n",
       "    </tr>\n",
       "    <tr>\n",
       "      <th>top</th>\n",
       "      <td>'C'</td>\n",
       "      <td>'B12'</td>\n",
       "      <td>Regular</td>\n",
       "      <td>'R24'</td>\n",
       "    </tr>\n",
       "    <tr>\n",
       "      <th>freq</th>\n",
       "      <td>191880</td>\n",
       "      <td>166024</td>\n",
       "      <td>345877</td>\n",
       "      <td>160601</td>\n",
       "    </tr>\n",
       "  </tbody>\n",
       "</table>\n",
       "</div>"
      ],
      "text/plain": [
       "          Area VehBrand   VehGas  Region\n",
       "count   678013   678013   678013  678013\n",
       "unique       6       11        2      22\n",
       "top        'C'    'B12'  Regular   'R24'\n",
       "freq    191880   166024   345877  160601"
      ]
     },
     "execution_count": 36,
     "metadata": {},
     "output_type": "execute_result"
    }
   ],
   "source": [
    "# get summary statistics for the dataset (categorical variables only)\n",
    "df.describe(include=\"object\")"
   ]
  },
  {
   "cell_type": "markdown",
   "metadata": {},
   "source": [
    "# Plots"
   ]
  },
  {
   "cell_type": "markdown",
   "metadata": {},
   "source": [
    "### Continous variables"
   ]
  },
  {
   "cell_type": "code",
   "execution_count": 40,
   "metadata": {},
   "outputs": [
    {
     "ename": "ModuleNotFoundError",
     "evalue": "No module named 'dateutil.rrule'",
     "output_type": "error",
     "traceback": [
      "\u001b[0;31m---------------------------------------------------------------------------\u001b[0m",
      "\u001b[0;31mModuleNotFoundError\u001b[0m                       Traceback (most recent call last)",
      "Cell \u001b[0;32mIn[40], line 2\u001b[0m\n\u001b[1;32m      1\u001b[0m \u001b[38;5;66;03m# plot the distributions of all continuous variables with a large plot size\u001b[39;00m\n\u001b[0;32m----> 2\u001b[0m \u001b[38;5;28;01mimport\u001b[39;00m \u001b[38;5;21;01mmatplotlib\u001b[39;00m\u001b[38;5;21;01m.\u001b[39;00m\u001b[38;5;21;01mpyplot\u001b[39;00m \u001b[38;5;28;01mas\u001b[39;00m \u001b[38;5;21;01mplt\u001b[39;00m\n\u001b[1;32m      4\u001b[0m fig \u001b[38;5;241m=\u001b[39m plt\u001b[38;5;241m.\u001b[39mfigure(figsize \u001b[38;5;241m=\u001b[39m (\u001b[38;5;241m25\u001b[39m,\u001b[38;5;241m20\u001b[39m))\n\u001b[1;32m      5\u001b[0m ax \u001b[38;5;241m=\u001b[39m fig\u001b[38;5;241m.\u001b[39mgca()\n",
      "File \u001b[0;32m~/.local/lib/python3.10/site-packages/matplotlib/pyplot.py:66\u001b[0m\n\u001b[1;32m     63\u001b[0m \u001b[38;5;28;01mfrom\u001b[39;00m \u001b[38;5;21;01mmatplotlib\u001b[39;00m \u001b[38;5;28;01mimport\u001b[39;00m _docstring\n\u001b[1;32m     64\u001b[0m \u001b[38;5;28;01mfrom\u001b[39;00m \u001b[38;5;21;01mmatplotlib\u001b[39;00m\u001b[38;5;21;01m.\u001b[39;00m\u001b[38;5;21;01mbackend_bases\u001b[39;00m \u001b[38;5;28;01mimport\u001b[39;00m (\n\u001b[1;32m     65\u001b[0m     FigureCanvasBase, FigureManagerBase, MouseButton)\n\u001b[0;32m---> 66\u001b[0m \u001b[38;5;28;01mfrom\u001b[39;00m \u001b[38;5;21;01mmatplotlib\u001b[39;00m\u001b[38;5;21;01m.\u001b[39;00m\u001b[38;5;21;01mfigure\u001b[39;00m \u001b[38;5;28;01mimport\u001b[39;00m Figure, FigureBase, figaspect\n\u001b[1;32m     67\u001b[0m \u001b[38;5;28;01mfrom\u001b[39;00m \u001b[38;5;21;01mmatplotlib\u001b[39;00m\u001b[38;5;21;01m.\u001b[39;00m\u001b[38;5;21;01mgridspec\u001b[39;00m \u001b[38;5;28;01mimport\u001b[39;00m GridSpec, SubplotSpec\n\u001b[1;32m     68\u001b[0m \u001b[38;5;28;01mfrom\u001b[39;00m \u001b[38;5;21;01mmatplotlib\u001b[39;00m \u001b[38;5;28;01mimport\u001b[39;00m rcsetup, rcParamsDefault, rcParamsOrig\n",
      "File \u001b[0;32m~/.local/lib/python3.10/site-packages/matplotlib/figure.py:43\u001b[0m\n\u001b[1;32m     40\u001b[0m \u001b[38;5;28;01mimport\u001b[39;00m \u001b[38;5;21;01mnumpy\u001b[39;00m \u001b[38;5;28;01mas\u001b[39;00m \u001b[38;5;21;01mnp\u001b[39;00m\n\u001b[1;32m     42\u001b[0m \u001b[38;5;28;01mimport\u001b[39;00m \u001b[38;5;21;01mmatplotlib\u001b[39;00m \u001b[38;5;28;01mas\u001b[39;00m \u001b[38;5;21;01mmpl\u001b[39;00m\n\u001b[0;32m---> 43\u001b[0m \u001b[38;5;28;01mfrom\u001b[39;00m \u001b[38;5;21;01mmatplotlib\u001b[39;00m \u001b[38;5;28;01mimport\u001b[39;00m _blocking_input, backend_bases, _docstring, projections\n\u001b[1;32m     44\u001b[0m \u001b[38;5;28;01mfrom\u001b[39;00m \u001b[38;5;21;01mmatplotlib\u001b[39;00m\u001b[38;5;21;01m.\u001b[39;00m\u001b[38;5;21;01martist\u001b[39;00m \u001b[38;5;28;01mimport\u001b[39;00m (\n\u001b[1;32m     45\u001b[0m     Artist, allow_rasterization, _finalize_rasterization)\n\u001b[1;32m     46\u001b[0m \u001b[38;5;28;01mfrom\u001b[39;00m \u001b[38;5;21;01mmatplotlib\u001b[39;00m\u001b[38;5;21;01m.\u001b[39;00m\u001b[38;5;21;01mbackend_bases\u001b[39;00m \u001b[38;5;28;01mimport\u001b[39;00m (\n\u001b[1;32m     47\u001b[0m     DrawEvent, FigureCanvasBase, NonGuiException, MouseButton, _get_renderer)\n",
      "File \u001b[0;32m~/.local/lib/python3.10/site-packages/matplotlib/projections/__init__.py:55\u001b[0m\n\u001b[1;32m      1\u001b[0m \u001b[38;5;124;03m\"\"\"\u001b[39;00m\n\u001b[1;32m      2\u001b[0m \u001b[38;5;124;03mNon-separable transforms that map from data space to screen space.\u001b[39;00m\n\u001b[1;32m      3\u001b[0m \n\u001b[0;32m   (...)\u001b[0m\n\u001b[1;32m     52\u001b[0m \u001b[38;5;124;03m`matplotlib.projections.polar` may also be of interest.\u001b[39;00m\n\u001b[1;32m     53\u001b[0m \u001b[38;5;124;03m\"\"\"\u001b[39;00m\n\u001b[0;32m---> 55\u001b[0m \u001b[38;5;28;01mfrom\u001b[39;00m \u001b[38;5;21;01m.\u001b[39;00m\u001b[38;5;21;01m.\u001b[39;00m \u001b[38;5;28;01mimport\u001b[39;00m axes, _docstring\n\u001b[1;32m     56\u001b[0m \u001b[38;5;28;01mfrom\u001b[39;00m \u001b[38;5;21;01m.\u001b[39;00m\u001b[38;5;21;01mgeo\u001b[39;00m \u001b[38;5;28;01mimport\u001b[39;00m AitoffAxes, HammerAxes, LambertAxes, MollweideAxes\n\u001b[1;32m     57\u001b[0m \u001b[38;5;28;01mfrom\u001b[39;00m \u001b[38;5;21;01m.\u001b[39;00m\u001b[38;5;21;01mpolar\u001b[39;00m \u001b[38;5;28;01mimport\u001b[39;00m PolarAxes\n",
      "File \u001b[0;32m~/.local/lib/python3.10/site-packages/matplotlib/axes/__init__.py:2\u001b[0m\n\u001b[1;32m      1\u001b[0m \u001b[38;5;28;01mfrom\u001b[39;00m \u001b[38;5;21;01m.\u001b[39;00m \u001b[38;5;28;01mimport\u001b[39;00m _base\n\u001b[0;32m----> 2\u001b[0m \u001b[38;5;28;01mfrom\u001b[39;00m \u001b[38;5;21;01m.\u001b[39;00m\u001b[38;5;21;01m_axes\u001b[39;00m \u001b[38;5;28;01mimport\u001b[39;00m \u001b[38;5;241m*\u001b[39m\n\u001b[1;32m      4\u001b[0m \u001b[38;5;66;03m# Backcompat.\u001b[39;00m\n\u001b[1;32m      5\u001b[0m \u001b[38;5;28;01mfrom\u001b[39;00m \u001b[38;5;21;01m.\u001b[39;00m\u001b[38;5;21;01m_axes\u001b[39;00m \u001b[38;5;28;01mimport\u001b[39;00m Axes \u001b[38;5;28;01mas\u001b[39;00m Subplot\n",
      "File \u001b[0;32m~/.local/lib/python3.10/site-packages/matplotlib/axes/_axes.py:16\u001b[0m\n\u001b[1;32m     14\u001b[0m \u001b[38;5;28;01mimport\u001b[39;00m \u001b[38;5;21;01mmatplotlib\u001b[39;00m\u001b[38;5;21;01m.\u001b[39;00m\u001b[38;5;21;01mcolors\u001b[39;00m \u001b[38;5;28;01mas\u001b[39;00m \u001b[38;5;21;01mmcolors\u001b[39;00m\n\u001b[1;32m     15\u001b[0m \u001b[38;5;28;01mimport\u001b[39;00m \u001b[38;5;21;01mmatplotlib\u001b[39;00m\u001b[38;5;21;01m.\u001b[39;00m\u001b[38;5;21;01mcontour\u001b[39;00m \u001b[38;5;28;01mas\u001b[39;00m \u001b[38;5;21;01mmcontour\u001b[39;00m\n\u001b[0;32m---> 16\u001b[0m \u001b[38;5;28;01mimport\u001b[39;00m \u001b[38;5;21;01mmatplotlib\u001b[39;00m\u001b[38;5;21;01m.\u001b[39;00m\u001b[38;5;21;01mdates\u001b[39;00m  \u001b[38;5;66;03m# noqa # Register date unit converter as side effect.\u001b[39;00m\n\u001b[1;32m     17\u001b[0m \u001b[38;5;28;01mimport\u001b[39;00m \u001b[38;5;21;01mmatplotlib\u001b[39;00m\u001b[38;5;21;01m.\u001b[39;00m\u001b[38;5;21;01mimage\u001b[39;00m \u001b[38;5;28;01mas\u001b[39;00m \u001b[38;5;21;01mmimage\u001b[39;00m\n\u001b[1;32m     18\u001b[0m \u001b[38;5;28;01mimport\u001b[39;00m \u001b[38;5;21;01mmatplotlib\u001b[39;00m\u001b[38;5;21;01m.\u001b[39;00m\u001b[38;5;21;01mlegend\u001b[39;00m \u001b[38;5;28;01mas\u001b[39;00m \u001b[38;5;21;01mmlegend\u001b[39;00m\n",
      "File \u001b[0;32m~/.local/lib/python3.10/site-packages/matplotlib/dates.py:181\u001b[0m\n\u001b[1;32m    178\u001b[0m \u001b[38;5;28;01mimport\u001b[39;00m \u001b[38;5;21;01mlogging\u001b[39;00m\n\u001b[1;32m    179\u001b[0m \u001b[38;5;28;01mimport\u001b[39;00m \u001b[38;5;21;01mre\u001b[39;00m\n\u001b[0;32m--> 181\u001b[0m \u001b[38;5;28;01mfrom\u001b[39;00m \u001b[38;5;21;01mdateutil\u001b[39;00m\u001b[38;5;21;01m.\u001b[39;00m\u001b[38;5;21;01mrrule\u001b[39;00m \u001b[38;5;28;01mimport\u001b[39;00m (rrule, MO, TU, WE, TH, FR, SA, SU, YEARLY,\n\u001b[1;32m    182\u001b[0m                             MONTHLY, WEEKLY, DAILY, HOURLY, MINUTELY,\n\u001b[1;32m    183\u001b[0m                             SECONDLY)\n\u001b[1;32m    184\u001b[0m \u001b[38;5;28;01mfrom\u001b[39;00m \u001b[38;5;21;01mdateutil\u001b[39;00m\u001b[38;5;21;01m.\u001b[39;00m\u001b[38;5;21;01mrelativedelta\u001b[39;00m \u001b[38;5;28;01mimport\u001b[39;00m relativedelta\n\u001b[1;32m    185\u001b[0m \u001b[38;5;28;01mimport\u001b[39;00m \u001b[38;5;21;01mdateutil\u001b[39;00m\u001b[38;5;21;01m.\u001b[39;00m\u001b[38;5;21;01mparser\u001b[39;00m\n",
      "\u001b[0;31mModuleNotFoundError\u001b[0m: No module named 'dateutil.rrule'"
     ]
    }
   ],
   "source": [
    "# plot the distributions of all continuous variables with a large plot size\n",
    "fig = plt.figure(figsize = (25,20))\n",
    "ax = fig.gca()\n",
    "df.hist(ax = ax, bins=40)\n",
    "plt.show()"
   ]
  },
  {
   "cell_type": "markdown",
   "metadata": {},
   "source": [
    "- We have a massive skew for some of our variables (especially ClaimAmount & ClaimNb where we witness more or equal to 95% for only one value)\n",
    "- Most of the distributions appear to be skewed in the right direction --> Model should be capable of handling such a skewed distribution"
   ]
  },
  {
   "cell_type": "code",
   "execution_count": null,
   "metadata": {},
   "outputs": [
    {
     "name": "stdout",
     "output_type": "stream",
     "text": [
      "0.9632101449382239\n",
      "0.9497649750078538\n",
      "0.5665909060740724\n",
      "0.2479672218674273\n",
      "0.9632101449382239\n"
     ]
    }
   ],
   "source": [
    "# how much of ClaimAmount is zero? \n",
    "print(df[df.ClaimAmount == 0].shape[0] / df.shape[0]) # 96% !!\n",
    "# how much of ClaimNb is zero?\n",
    "print(df[df.ClaimNb == 0].shape[0] / df.shape[0]) # Almost 95 % \n",
    "# how much of BonusMalus is 50?\n",
    "print(df[df.BonusMalus == 50].shape[0] / df.shape[0]) # Almost 57%  \n",
    "# how much of Exposure is 1?    \n",
    "print(df[df.Exposure == 1].shape[0] / df.shape[0]) # almost 35 % \n",
    "\n",
    "#how much of our target variable ClaimAmountDivByExposure is zero? \n",
    "print(df[df.ClaimAmountDivByExposure == 0.0].shape[0] / df.shape[0]) # almost 96% \n",
    "# --> this could be a problem... "
   ]
  },
  {
   "cell_type": "markdown",
   "metadata": {},
   "source": [
    "### Categorial variables"
   ]
  },
  {
   "cell_type": "code",
   "execution_count": 43,
   "metadata": {},
   "outputs": [
    {
     "ename": "ImportError",
     "evalue": "matplotlib is required for plotting when the default backend \"matplotlib\" is selected.",
     "output_type": "error",
     "traceback": [
      "\u001b[0;31m---------------------------------------------------------------------------\u001b[0m",
      "\u001b[0;31mImportError\u001b[0m                               Traceback (most recent call last)",
      "Cell \u001b[0;32mIn[43], line 2\u001b[0m\n\u001b[1;32m      1\u001b[0m \u001b[38;5;66;03m# plot the distributions of all categorial variables\u001b[39;00m\n\u001b[0;32m----> 2\u001b[0m \u001b[43mdf\u001b[49m\u001b[43m[\u001b[49m\u001b[38;5;124;43m'\u001b[39;49m\u001b[38;5;124;43mArea\u001b[39;49m\u001b[38;5;124;43m'\u001b[39;49m\u001b[43m]\u001b[49m\u001b[38;5;241;43m.\u001b[39;49m\u001b[43mvalue_counts\u001b[49m\u001b[43m(\u001b[49m\u001b[43m)\u001b[49m\u001b[38;5;241;43m.\u001b[39;49m\u001b[43mplot\u001b[49m\u001b[43m(\u001b[49m\u001b[43mkind\u001b[49m\u001b[38;5;241;43m=\u001b[39;49m\u001b[38;5;124;43m'\u001b[39;49m\u001b[38;5;124;43mbar\u001b[39;49m\u001b[38;5;124;43m'\u001b[39;49m\u001b[43m)\u001b[49m\n",
      "File \u001b[0;32m~/.local/lib/python3.10/site-packages/pandas/plotting/_core.py:947\u001b[0m, in \u001b[0;36mPlotAccessor.__call__\u001b[0;34m(self, *args, **kwargs)\u001b[0m\n\u001b[1;32m    946\u001b[0m \u001b[38;5;28;01mdef\u001b[39;00m \u001b[38;5;21m__call__\u001b[39m(\u001b[38;5;28mself\u001b[39m, \u001b[38;5;241m*\u001b[39margs, \u001b[38;5;241m*\u001b[39m\u001b[38;5;241m*\u001b[39mkwargs):\n\u001b[0;32m--> 947\u001b[0m     plot_backend \u001b[38;5;241m=\u001b[39m \u001b[43m_get_plot_backend\u001b[49m\u001b[43m(\u001b[49m\u001b[43mkwargs\u001b[49m\u001b[38;5;241;43m.\u001b[39;49m\u001b[43mpop\u001b[49m\u001b[43m(\u001b[49m\u001b[38;5;124;43m\"\u001b[39;49m\u001b[38;5;124;43mbackend\u001b[39;49m\u001b[38;5;124;43m\"\u001b[39;49m\u001b[43m,\u001b[49m\u001b[43m \u001b[49m\u001b[38;5;28;43;01mNone\u001b[39;49;00m\u001b[43m)\u001b[49m\u001b[43m)\u001b[49m\n\u001b[1;32m    949\u001b[0m     x, y, kind, kwargs \u001b[38;5;241m=\u001b[39m \u001b[38;5;28mself\u001b[39m\u001b[38;5;241m.\u001b[39m_get_call_args(\n\u001b[1;32m    950\u001b[0m         plot_backend\u001b[38;5;241m.\u001b[39m\u001b[38;5;18m__name__\u001b[39m, \u001b[38;5;28mself\u001b[39m\u001b[38;5;241m.\u001b[39m_parent, args, kwargs\n\u001b[1;32m    951\u001b[0m     )\n\u001b[1;32m    953\u001b[0m     kind \u001b[38;5;241m=\u001b[39m \u001b[38;5;28mself\u001b[39m\u001b[38;5;241m.\u001b[39m_kind_aliases\u001b[38;5;241m.\u001b[39mget(kind, kind)\n",
      "File \u001b[0;32m~/.local/lib/python3.10/site-packages/pandas/plotting/_core.py:1944\u001b[0m, in \u001b[0;36m_get_plot_backend\u001b[0;34m(backend)\u001b[0m\n\u001b[1;32m   1941\u001b[0m \u001b[38;5;28;01mif\u001b[39;00m backend_str \u001b[38;5;129;01min\u001b[39;00m _backends:\n\u001b[1;32m   1942\u001b[0m     \u001b[38;5;28;01mreturn\u001b[39;00m _backends[backend_str]\n\u001b[0;32m-> 1944\u001b[0m module \u001b[38;5;241m=\u001b[39m \u001b[43m_load_backend\u001b[49m\u001b[43m(\u001b[49m\u001b[43mbackend_str\u001b[49m\u001b[43m)\u001b[49m\n\u001b[1;32m   1945\u001b[0m _backends[backend_str] \u001b[38;5;241m=\u001b[39m module\n\u001b[1;32m   1946\u001b[0m \u001b[38;5;28;01mreturn\u001b[39;00m module\n",
      "File \u001b[0;32m~/.local/lib/python3.10/site-packages/pandas/plotting/_core.py:1874\u001b[0m, in \u001b[0;36m_load_backend\u001b[0;34m(backend)\u001b[0m\n\u001b[1;32m   1872\u001b[0m         module \u001b[38;5;241m=\u001b[39m importlib\u001b[38;5;241m.\u001b[39mimport_module(\u001b[38;5;124m\"\u001b[39m\u001b[38;5;124mpandas.plotting._matplotlib\u001b[39m\u001b[38;5;124m\"\u001b[39m)\n\u001b[1;32m   1873\u001b[0m     \u001b[38;5;28;01mexcept\u001b[39;00m \u001b[38;5;167;01mImportError\u001b[39;00m:\n\u001b[0;32m-> 1874\u001b[0m         \u001b[38;5;28;01mraise\u001b[39;00m \u001b[38;5;167;01mImportError\u001b[39;00m(\n\u001b[1;32m   1875\u001b[0m             \u001b[38;5;124m\"\u001b[39m\u001b[38;5;124mmatplotlib is required for plotting when the \u001b[39m\u001b[38;5;124m\"\u001b[39m\n\u001b[1;32m   1876\u001b[0m             \u001b[38;5;124m'\u001b[39m\u001b[38;5;124mdefault backend \u001b[39m\u001b[38;5;124m\"\u001b[39m\u001b[38;5;124mmatplotlib\u001b[39m\u001b[38;5;124m\"\u001b[39m\u001b[38;5;124m is selected.\u001b[39m\u001b[38;5;124m'\u001b[39m\n\u001b[1;32m   1877\u001b[0m         ) \u001b[38;5;28;01mfrom\u001b[39;00m \u001b[38;5;28;01mNone\u001b[39;00m\n\u001b[1;32m   1878\u001b[0m     \u001b[38;5;28;01mreturn\u001b[39;00m module\n\u001b[1;32m   1880\u001b[0m found_backend \u001b[38;5;241m=\u001b[39m \u001b[38;5;28;01mFalse\u001b[39;00m\n",
      "\u001b[0;31mImportError\u001b[0m: matplotlib is required for plotting when the default backend \"matplotlib\" is selected."
     ]
    }
   ],
   "source": [
    "# plot the distributions of all categorial variables\n",
    "df['Area'].value_counts().plot(kind='bar')"
   ]
  },
  {
   "cell_type": "code",
   "execution_count": null,
   "metadata": {},
   "outputs": [
    {
     "data": {
      "text/plain": [
       "<Axes: xlabel='VehBrand'>"
      ]
     },
     "execution_count": 9,
     "metadata": {},
     "output_type": "execute_result"
    },
    {
     "data": {
      "image/png": "[encoded data removed]",
      "text/plain": [
       "<Figure size 640x480 with 1 Axes>"
      ]
     },
     "metadata": {},
     "output_type": "display_data"
    }
   ],
   "source": [
    "df['VehBrand'].value_counts().plot(kind='bar')"
   ]
  },
  {
   "cell_type": "markdown",
   "metadata": {},
   "source": [
    "- Dominance of Vehicle Brands B12, B1 and B2 "
   ]
  },
  {
   "cell_type": "code",
   "execution_count": null,
   "metadata": {},
   "outputs": [
    {
     "data": {
      "text/plain": [
       "<Axes: xlabel='VehGas'>"
      ]
     },
     "execution_count": 10,
     "metadata": {},
     "output_type": "execute_result"
    },
    {
     "data": {
      "image/png": "[encoded data removed]",
      "text/plain": [
       "<Figure size 640x480 with 1 Axes>"
      ]
     },
     "metadata": {},
     "output_type": "display_data"
    }
   ],
   "source": [
    "df['VehGas'].value_counts().plot(kind='bar')"
   ]
  },
  {
   "cell_type": "markdown",
   "metadata": {},
   "source": [
    "- VehGas appears to be rather even"
   ]
  },
  {
   "cell_type": "code",
   "execution_count": null,
   "metadata": {},
   "outputs": [
    {
     "data": {
      "text/plain": [
       "<Axes: xlabel='Region'>"
      ]
     },
     "execution_count": 8,
     "metadata": {},
     "output_type": "execute_result"
    },
    {
     "data": {
      "image/png": "[encoded data removed]",
      "text/plain": [
       "<Figure size 640x480 with 1 Axes>"
      ]
     },
     "metadata": {},
     "output_type": "display_data"
    }
   ],
   "source": [
    "df['Region'].value_counts().plot(kind='bar')"
   ]
  },
  {
   "cell_type": "markdown",
   "metadata": {},
   "source": [
    "- R24 appears to dominate the regions. Why is this the case? Could be the capital region or another areas with higher density of population --> Check correlation"
   ]
  },
  {
   "cell_type": "markdown",
   "metadata": {},
   "source": [
    "### Correlations of variables"
   ]
  },
  {
   "cell_type": "markdown",
   "metadata": {},
   "source": [
    "### Continous variables"
   ]
  },
  {
   "cell_type": "code",
   "execution_count": null,
   "metadata": {},
   "outputs": [
    {
     "data": {
      "text/plain": [
       "<Axes: >"
      ]
     },
     "execution_count": 9,
     "metadata": {},
     "output_type": "execute_result"
    },
    {
     "data": {
      "image/png": "[encoded data removed]",
      "text/plain": [
       "<Figure size 640x480 with 2 Axes>"
      ]
     },
     "metadata": {},
     "output_type": "display_data"
    }
   ],
   "source": [
    "# Plot of correlations between all continuous variables\n",
    "import seaborn as sns\n",
    "# get only variables with numeric values and exlude ClaimAmountDivByExposure\n",
    "df_num = df.drop(columns=[\"ClaimAmountDivByExposure\", \"ClaimNb\"])._get_numeric_data()\n",
    "corr = df_num.corr()\n",
    "sns.heatmap(corr, \n",
    "            xticklabels=corr.columns.values,\n",
    "            yticklabels=corr.columns.values)"
   ]
  },
  {
   "cell_type": "code",
   "execution_count": null,
   "metadata": {},
   "outputs": [
    {
     "data": {
      "text/html": [
       "<div>\n",
       "<style scoped>\n",
       "    .dataframe tbody tr th:only-of-type {\n",
       "        vertical-align: middle;\n",
       "    }\n",
       "\n",
       "    .dataframe tbody tr th {\n",
       "        vertical-align: top;\n",
       "    }\n",
       "\n",
       "    .dataframe thead th {\n",
       "        text-align: right;\n",
       "    }\n",
       "</style>\n",
       "<table border=\"1\" class=\"dataframe\">\n",
       "  <thead>\n",
       "    <tr style=\"text-align: right;\">\n",
       "      <th></th>\n",
       "      <th>Exposure</th>\n",
       "      <th>VehPower</th>\n",
       "      <th>VehAge</th>\n",
       "      <th>DrivAge</th>\n",
       "      <th>BonusMalus</th>\n",
       "      <th>Density</th>\n",
       "      <th>ClaimAmount</th>\n",
       "    </tr>\n",
       "  </thead>\n",
       "  <tbody>\n",
       "    <tr>\n",
       "      <th>Exposure</th>\n",
       "      <td>1.000000</td>\n",
       "      <td>-0.045259</td>\n",
       "      <td>0.151554</td>\n",
       "      <td>0.171873</td>\n",
       "      <td>-0.183018</td>\n",
       "      <td>-0.071085</td>\n",
       "      <td>0.002244</td>\n",
       "    </tr>\n",
       "    <tr>\n",
       "      <th>VehPower</th>\n",
       "      <td>-0.045259</td>\n",
       "      <td>1.000000</td>\n",
       "      <td>-0.006001</td>\n",
       "      <td>0.030108</td>\n",
       "      <td>-0.075895</td>\n",
       "      <td>0.042901</td>\n",
       "      <td>0.001275</td>\n",
       "    </tr>\n",
       "    <tr>\n",
       "      <th>VehAge</th>\n",
       "      <td>0.151554</td>\n",
       "      <td>-0.006001</td>\n",
       "      <td>1.000000</td>\n",
       "      <td>-0.059213</td>\n",
       "      <td>0.079923</td>\n",
       "      <td>-0.090428</td>\n",
       "      <td>0.002321</td>\n",
       "    </tr>\n",
       "    <tr>\n",
       "      <th>DrivAge</th>\n",
       "      <td>0.171873</td>\n",
       "      <td>0.030108</td>\n",
       "      <td>-0.059213</td>\n",
       "      <td>1.000000</td>\n",
       "      <td>-0.479966</td>\n",
       "      <td>-0.004700</td>\n",
       "      <td>-0.003663</td>\n",
       "    </tr>\n",
       "    <tr>\n",
       "      <th>BonusMalus</th>\n",
       "      <td>-0.183018</td>\n",
       "      <td>-0.075895</td>\n",
       "      <td>0.079923</td>\n",
       "      <td>-0.479966</td>\n",
       "      <td>1.000000</td>\n",
       "      <td>0.077717</td>\n",
       "      <td>0.009956</td>\n",
       "    </tr>\n",
       "    <tr>\n",
       "      <th>Density</th>\n",
       "      <td>-0.071085</td>\n",
       "      <td>0.042901</td>\n",
       "      <td>-0.090428</td>\n",
       "      <td>-0.004700</td>\n",
       "      <td>0.077717</td>\n",
       "      <td>1.000000</td>\n",
       "      <td>-0.000056</td>\n",
       "    </tr>\n",
       "    <tr>\n",
       "      <th>ClaimAmount</th>\n",
       "      <td>0.002244</td>\n",
       "      <td>0.001275</td>\n",
       "      <td>0.002321</td>\n",
       "      <td>-0.003663</td>\n",
       "      <td>0.009956</td>\n",
       "      <td>-0.000056</td>\n",
       "      <td>1.000000</td>\n",
       "    </tr>\n",
       "  </tbody>\n",
       "</table>\n",
       "</div>"
      ],
      "text/plain": [
       "             Exposure  VehPower    VehAge   DrivAge  BonusMalus   Density  \\\n",
       "Exposure     1.000000 -0.045259  0.151554  0.171873   -0.183018 -0.071085   \n",
       "VehPower    -0.045259  1.000000 -0.006001  0.030108   -0.075895  0.042901   \n",
       "VehAge       0.151554 -0.006001  1.000000 -0.059213    0.079923 -0.090428   \n",
       "DrivAge      0.171873  0.030108 -0.059213  1.000000   -0.479966 -0.004700   \n",
       "BonusMalus  -0.183018 -0.075895  0.079923 -0.479966    1.000000  0.077717   \n",
       "Density     -0.071085  0.042901 -0.090428 -0.004700    0.077717  1.000000   \n",
       "ClaimAmount  0.002244  0.001275  0.002321 -0.003663    0.009956 -0.000056   \n",
       "\n",
       "             ClaimAmount  \n",
       "Exposure        0.002244  \n",
       "VehPower        0.001275  \n",
       "VehAge          0.002321  \n",
       "DrivAge        -0.003663  \n",
       "BonusMalus      0.009956  \n",
       "Density        -0.000056  \n",
       "ClaimAmount     1.000000  "
      ]
     },
     "execution_count": 13,
     "metadata": {},
     "output_type": "execute_result"
    }
   ],
   "source": [
    "corr"
   ]
  },
  {
   "cell_type": "markdown",
   "metadata": {},
   "source": [
    "- Stronger negative correlation between drivers age and bonus malus --> the higher the age the lower the BonusMalus score, which makes sense because the older I am the more likely I am to have a bonus (researched: score under 100)\n",
    "- Also a stronger (compared to the others) negative correlation between BonusMalus and Exposure --> The longer I am \"exposed\", which means I have an active insurance, the more likely I am to have a bonus "
   ]
  },
  {
   "cell_type": "markdown",
   "metadata": {},
   "source": [
    "### Categorial variables\n",
    "As I'm not just interested in the connection/correlation between all my already categorial features but also the continous ones, I'll put them into bins to mimick categorial traits. Afterwards Cramers V is calculated between them."
   ]
  },
  {
   "cell_type": "code",
   "execution_count": null,
   "metadata": {},
   "outputs": [
    {
     "name": "stdout",
     "output_type": "stream",
     "text": [
      "Finished cramers_v for Area and Area.\n",
      "Finished cramers_v for Area and VehBrand.\n",
      "Finished cramers_v for Area and VehGas.\n",
      "Finished cramers_v for Area and Region.\n",
      "Finished cramers_v for Area and VehPower.\n",
      "Finished cramers_v for Area and VehAge.\n",
      "Finished cramers_v for Area and DrivAge.\n",
      "Finished cramers_v for Area and Density.\n",
      "Finished cramers_v for Area and BonusMalus.\n",
      "Finished cramers_v for VehBrand and Area.\n",
      "Finished cramers_v for VehBrand and VehBrand.\n",
      "Finished cramers_v for VehBrand and VehGas.\n",
      "Finished cramers_v for VehBrand and Region.\n",
      "Finished cramers_v for VehBrand and VehPower.\n",
      "Finished cramers_v for VehBrand and VehAge.\n",
      "Finished cramers_v for VehBrand and DrivAge.\n",
      "Finished cramers_v for VehBrand and Density.\n",
      "Finished cramers_v for VehBrand and BonusMalus.\n",
      "Finished cramers_v for VehGas and Area.\n",
      "Finished cramers_v for VehGas and VehBrand.\n",
      "Finished cramers_v for VehGas and VehGas.\n",
      "Finished cramers_v for VehGas and Region.\n",
      "Finished cramers_v for VehGas and VehPower.\n",
      "Finished cramers_v for VehGas and VehAge.\n",
      "Finished cramers_v for VehGas and DrivAge.\n",
      "Finished cramers_v for VehGas and Density.\n",
      "Finished cramers_v for VehGas and BonusMalus.\n",
      "Finished cramers_v for Region and Area.\n",
      "Finished cramers_v for Region and VehBrand.\n",
      "Finished cramers_v for Region and VehGas.\n",
      "Finished cramers_v for Region and Region.\n",
      "Finished cramers_v for Region and VehPower.\n",
      "Finished cramers_v for Region and VehAge.\n",
      "Finished cramers_v for Region and DrivAge.\n",
      "Finished cramers_v for Region and Density.\n",
      "Finished cramers_v for Region and BonusMalus.\n",
      "Finished cramers_v for VehPower and Area.\n",
      "Finished cramers_v for VehPower and VehBrand.\n",
      "Finished cramers_v for VehPower and VehGas.\n",
      "Finished cramers_v for VehPower and Region.\n",
      "Finished cramers_v for VehPower and VehPower.\n",
      "Finished cramers_v for VehPower and VehAge.\n",
      "Finished cramers_v for VehPower and DrivAge.\n",
      "Finished cramers_v for VehPower and Density.\n",
      "Finished cramers_v for VehPower and BonusMalus.\n",
      "Finished cramers_v for VehAge and Area.\n",
      "Finished cramers_v for VehAge and VehBrand.\n",
      "Finished cramers_v for VehAge and VehGas.\n",
      "Finished cramers_v for VehAge and Region.\n",
      "Finished cramers_v for VehAge and VehPower.\n",
      "Finished cramers_v for VehAge and VehAge.\n",
      "Finished cramers_v for VehAge and DrivAge.\n",
      "Finished cramers_v for VehAge and Density.\n",
      "Finished cramers_v for VehAge and BonusMalus.\n",
      "Finished cramers_v for DrivAge and Area.\n",
      "Finished cramers_v for DrivAge and VehBrand.\n",
      "Finished cramers_v for DrivAge and VehGas.\n",
      "Finished cramers_v for DrivAge and Region.\n",
      "Finished cramers_v for DrivAge and VehPower.\n",
      "Finished cramers_v for DrivAge and VehAge.\n",
      "Finished cramers_v for DrivAge and DrivAge.\n",
      "Finished cramers_v for DrivAge and Density.\n",
      "Finished cramers_v for DrivAge and BonusMalus.\n",
      "Finished cramers_v for Density and Area.\n",
      "Finished cramers_v for Density and VehBrand.\n",
      "Finished cramers_v for Density and VehGas.\n",
      "Finished cramers_v for Density and Region.\n",
      "Finished cramers_v for Density and VehPower.\n",
      "Finished cramers_v for Density and VehAge.\n",
      "Finished cramers_v for Density and DrivAge.\n",
      "Finished cramers_v for Density and Density.\n",
      "Finished cramers_v for Density and BonusMalus.\n",
      "Finished cramers_v for BonusMalus and Area.\n",
      "Finished cramers_v for BonusMalus and VehBrand.\n",
      "Finished cramers_v for BonusMalus and VehGas.\n",
      "Finished cramers_v for BonusMalus and Region.\n",
      "Finished cramers_v for BonusMalus and VehPower.\n",
      "Finished cramers_v for BonusMalus and VehAge.\n",
      "Finished cramers_v for BonusMalus and DrivAge.\n",
      "Finished cramers_v for BonusMalus and Density.\n",
      "Finished cramers_v for BonusMalus and BonusMalus.\n"
     ]
    },
    {
     "data": {
      "text/html": [
       "<div>\n",
       "<style scoped>\n",
       "    .dataframe tbody tr th:only-of-type {\n",
       "        vertical-align: middle;\n",
       "    }\n",
       "\n",
       "    .dataframe tbody tr th {\n",
       "        vertical-align: top;\n",
       "    }\n",
       "\n",
       "    .dataframe thead th {\n",
       "        text-align: right;\n",
       "    }\n",
       "</style>\n",
       "<table border=\"1\" class=\"dataframe\">\n",
       "  <thead>\n",
       "    <tr style=\"text-align: right;\">\n",
       "      <th></th>\n",
       "      <th>Area</th>\n",
       "      <th>VehBrand</th>\n",
       "      <th>VehGas</th>\n",
       "      <th>Region</th>\n",
       "      <th>VehPower</th>\n",
       "      <th>VehAge</th>\n",
       "      <th>DrivAge</th>\n",
       "      <th>Density</th>\n",
       "      <th>BonusMalus</th>\n",
       "    </tr>\n",
       "  </thead>\n",
       "  <tbody>\n",
       "    <tr>\n",
       "      <th>Area</th>\n",
       "      <td>1.0</td>\n",
       "      <td>0.073171</td>\n",
       "      <td>0.131411</td>\n",
       "      <td>0.319425</td>\n",
       "      <td>0.03956</td>\n",
       "      <td>0.056763</td>\n",
       "      <td>0.033491</td>\n",
       "      <td>0.997062</td>\n",
       "      <td>0.066813</td>\n",
       "    </tr>\n",
       "    <tr>\n",
       "      <th>VehBrand</th>\n",
       "      <td>0.073171</td>\n",
       "      <td>1.0</td>\n",
       "      <td>0.116451</td>\n",
       "      <td>0.129941</td>\n",
       "      <td>0.157503</td>\n",
       "      <td>0.17197</td>\n",
       "      <td>0.052935</td>\n",
       "      <td>0.160174</td>\n",
       "      <td>0.03323</td>\n",
       "    </tr>\n",
       "    <tr>\n",
       "      <th>VehGas</th>\n",
       "      <td>0.131411</td>\n",
       "      <td>0.116451</td>\n",
       "      <td>0.999997</td>\n",
       "      <td>0.094239</td>\n",
       "      <td>0.318712</td>\n",
       "      <td>0.147544</td>\n",
       "      <td>0.126357</td>\n",
       "      <td>0.200454</td>\n",
       "      <td>0.062148</td>\n",
       "    </tr>\n",
       "    <tr>\n",
       "      <th>Region</th>\n",
       "      <td>0.319425</td>\n",
       "      <td>0.129941</td>\n",
       "      <td>0.094239</td>\n",
       "      <td>1.0</td>\n",
       "      <td>0.043342</td>\n",
       "      <td>0.062862</td>\n",
       "      <td>0.033897</td>\n",
       "      <td>0.681205</td>\n",
       "      <td>0.034423</td>\n",
       "    </tr>\n",
       "    <tr>\n",
       "      <th>VehPower</th>\n",
       "      <td>0.03956</td>\n",
       "      <td>0.157503</td>\n",
       "      <td>0.318712</td>\n",
       "      <td>0.043342</td>\n",
       "      <td>1.0</td>\n",
       "      <td>0.073697</td>\n",
       "      <td>0.039663</td>\n",
       "      <td>0.117997</td>\n",
       "      <td>0.032264</td>\n",
       "    </tr>\n",
       "    <tr>\n",
       "      <th>VehAge</th>\n",
       "      <td>0.056763</td>\n",
       "      <td>0.17197</td>\n",
       "      <td>0.147544</td>\n",
       "      <td>0.062862</td>\n",
       "      <td>0.073697</td>\n",
       "      <td>1.0</td>\n",
       "      <td>0.017766</td>\n",
       "      <td>0.036415</td>\n",
       "      <td>0.012523</td>\n",
       "    </tr>\n",
       "    <tr>\n",
       "      <th>DrivAge</th>\n",
       "      <td>0.033491</td>\n",
       "      <td>0.052935</td>\n",
       "      <td>0.126357</td>\n",
       "      <td>0.033897</td>\n",
       "      <td>0.039663</td>\n",
       "      <td>0.017766</td>\n",
       "      <td>1.0</td>\n",
       "      <td>0.054378</td>\n",
       "      <td>0.091686</td>\n",
       "    </tr>\n",
       "    <tr>\n",
       "      <th>Density</th>\n",
       "      <td>0.997062</td>\n",
       "      <td>0.160174</td>\n",
       "      <td>0.200454</td>\n",
       "      <td>0.681205</td>\n",
       "      <td>0.117997</td>\n",
       "      <td>0.036415</td>\n",
       "      <td>0.054378</td>\n",
       "      <td>1.0</td>\n",
       "      <td>0.074923</td>\n",
       "    </tr>\n",
       "    <tr>\n",
       "      <th>BonusMalus</th>\n",
       "      <td>0.066813</td>\n",
       "      <td>0.03323</td>\n",
       "      <td>0.062148</td>\n",
       "      <td>0.034423</td>\n",
       "      <td>0.032264</td>\n",
       "      <td>0.012523</td>\n",
       "      <td>0.091686</td>\n",
       "      <td>0.074923</td>\n",
       "      <td>1.0</td>\n",
       "    </tr>\n",
       "  </tbody>\n",
       "</table>\n",
       "</div>"
      ],
      "text/plain": [
       "                Area  VehBrand    VehGas    Region  VehPower    VehAge  \\\n",
       "Area             1.0  0.073171  0.131411  0.319425   0.03956  0.056763   \n",
       "VehBrand    0.073171       1.0  0.116451  0.129941  0.157503   0.17197   \n",
       "VehGas      0.131411  0.116451  0.999997  0.094239  0.318712  0.147544   \n",
       "Region      0.319425  0.129941  0.094239       1.0  0.043342  0.062862   \n",
       "VehPower     0.03956  0.157503  0.318712  0.043342       1.0  0.073697   \n",
       "VehAge      0.056763   0.17197  0.147544  0.062862  0.073697       1.0   \n",
       "DrivAge     0.033491  0.052935  0.126357  0.033897  0.039663  0.017766   \n",
       "Density     0.997062  0.160174  0.200454  0.681205  0.117997  0.036415   \n",
       "BonusMalus  0.066813   0.03323  0.062148  0.034423  0.032264  0.012523   \n",
       "\n",
       "             DrivAge   Density BonusMalus  \n",
       "Area        0.033491  0.997062   0.066813  \n",
       "VehBrand    0.052935  0.160174    0.03323  \n",
       "VehGas      0.126357  0.200454   0.062148  \n",
       "Region      0.033897  0.681205   0.034423  \n",
       "VehPower    0.039663  0.117997   0.032264  \n",
       "VehAge      0.017766  0.036415   0.012523  \n",
       "DrivAge          1.0  0.054378   0.091686  \n",
       "Density     0.054378       1.0   0.074923  \n",
       "BonusMalus  0.091686  0.074923        1.0  "
      ]
     },
     "execution_count": 10,
     "metadata": {},
     "output_type": "execute_result"
    }
   ],
   "source": [
    "# get Cramers V for all categorical and binned continous variables\n",
    "df_binned = df.copy()\n",
    "df_binned[\"VehPower\"] = pd.cut(df[\"VehPower\"], 5)\n",
    "df_binned[\"VehAge\"] = pd.cut(df[\"VehAge\"], 5)\n",
    "df_binned[\"DrivAge\"] = pd.cut(df[\"DrivAge\"], 5)\n",
    "df_binned[\"Density\"] = pd.cut(df[\"Density\"], 5)\n",
    "df_binned[\"BonusMalus\"] = pd.cut(df[\"BonusMalus\"], 5)\n",
    "\n",
    "def cramers_v(x, y):\n",
    "    confusion_matrix = pd.crosstab(x,y)\n",
    "    chi2 = ss.chi2_contingency(confusion_matrix)[0]\n",
    "    n = confusion_matrix.sum().sum()\n",
    "    phi2 = chi2/n\n",
    "    r,k = confusion_matrix.shape\n",
    "    phi2corr = max(0, phi2-((k-1)*(r-1))/(n-1))\n",
    "    rcorr = r-((r-1)**2)/(n-1)\n",
    "    kcorr = k-((k-1)**2)/(n-1)\n",
    "    return np.sqrt(phi2corr/min((kcorr-1),(rcorr-1)))\n",
    "\n",
    "categorical_vars = [\"Area\", \"VehBrand\", \"VehGas\", \"Region\", \"VehPower\", \"VehAge\", \"DrivAge\", \"Density\", \"BonusMalus\"]\n",
    "cramers_v_matrix = pd.DataFrame(index=categorical_vars, columns=categorical_vars)\n",
    "for var1 in categorical_vars:\n",
    "    for var2 in categorical_vars:\n",
    "        # print(f\"Finished cramers_v for {var1} and {var2}.\") # for those that are interested in the progress of the calculations\n",
    "        cramers_v_matrix.loc[var1, var2] = cramers_v(df[var1], df[var2])\n",
    "\n",
    "cramers_v_matrix   "
   ]
  },
  {
   "cell_type": "markdown",
   "metadata": {},
   "source": [
    "Very strong correlation (>0.25): \n",
    "- Region and area\n",
    "- Vehicle power and vehicle gas \n",
    "- Density and area --> Quick research gave the result, that area code might have been created via density... I'll exclude area and stick to density as both variables are more or less explaining the same variance. \n",
    "- Region and density\n",
    "\n",
    "Strong correlation (>0.15): \n",
    "- vehicle power and brand \n",
    "- Density and vehicle brand \n",
    "- Density and vehicle gas \n",
    "\n",
    "All other variables appear to be moderately or weakly connected..."
   ]
  },
  {
   "cell_type": "code",
   "execution_count": 44,
   "metadata": {},
   "outputs": [],
   "source": [
    "df.drop('Area', axis=1, inplace=True) "
   ]
  },
  {
   "cell_type": "markdown",
   "metadata": {},
   "source": [
    "# Feature creation"
   ]
  },
  {
   "cell_type": "code",
   "execution_count": 46,
   "metadata": {},
   "outputs": [],
   "source": [
    "# Drop ClaimNb, ClaimAmount and Exposure as they appear to be part of what we want to model here!\n",
    "df.drop(columns=[\"ClaimNb\", \"ClaimAmount\", \"Exposure\"], inplace=True) "
   ]
  },
  {
   "cell_type": "code",
   "execution_count": 48,
   "metadata": {},
   "outputs": [],
   "source": [
    "# One hot encode all categorical variables\n",
    "df = pd.get_dummies(df)"
   ]
  },
  {
   "cell_type": "markdown",
   "metadata": {},
   "source": [
    "# Model Selection and Training"
   ]
  },
  {
   "cell_type": "markdown",
   "metadata": {},
   "source": [
    "Our target variable ist continous (ClaimAmount/Exposure), thus we're modelling a regression problem. \n",
    "Two loss functions to optimize for in such a scenario are: \n",
    "- Mean Absolute Error --> All prediction errors are weighted equally \n",
    "- Root Mean Square Error --> Bigger prediction errors are weighted much more thus our model becomes much more sensitive to the distribution of our data \n",
    "... \n",
    "As I've done no handling of outliers whatsoever I'll go with MAE. \n",
    "\n",
    "On optimization step later on could be to think about how to handle outliers (maybe cut them off) and to then maybe change our loss function to RMSE. \n",
    "Also a much deeper investigation of much more specialized loss functions could be done to find the optimal solution. \n"
   ]
  },
  {
   "cell_type": "markdown",
   "metadata": {},
   "source": [
    "As we've seen our dataset has some features that correlate with each other, which might get a problem for certain models like a simple linear regression model for example. \n",
    "Thus a model has to be chosen, that can work with such feature correlations. Also I'm no insurance data domain expert, thus I'd prefer some modelling approach that scores good \n",
    "results without me having a strong backround in the domain! Also the model has to work with heavily skewed data..."
   ]
  },
  {
   "cell_type": "code",
   "execution_count": 49,
   "metadata": {},
   "outputs": [],
   "source": [
    "y = df['ClaimAmountDivByExposure']\n",
    "X = df.drop(columns=['ClaimAmountDivByExposure'])\n",
    "X_train, X_test, y_train, y_test = train_test_split(X, y, test_size=0.2, random_state=42)"
   ]
  },
  {
   "cell_type": "code",
   "execution_count": 58,
   "metadata": {},
   "outputs": [
    {
     "name": "stdout",
     "output_type": "stream",
     "text": [
      "Best set of hyperparameters:  {'colsample_bytree': 0.8528012906437894, 'learning_rate': 0.01082389783039757, 'max_depth': 5, 'min_child_weight': 0.11728548377936832, 'n_estimators': 160, 'subsample': 0.5904790991030617}\n",
      "Best RMSE:  -730.3917343137866\n"
     ]
    }
   ],
   "source": [
    "param_dist = { \n",
    "    'max_depth': stats.randint(3, 10),\n",
    "    'min_child_weight': stats.uniform(0.0, 1),\n",
    "    'learning_rate': stats.uniform(0.01, 0.1),\n",
    "    'subsample': stats.uniform(0.5, 0.5),\n",
    "    'n_estimators':stats.randint(50, 200), \n",
    "    'colsample_bytree': stats.uniform(0.5, 0.5),\n",
    "}\n",
    "\n",
    "# Create the XGBoost model object\n",
    "xgb_model = xgb.XGBRegressor(scale_pos_weight=1)\n",
    "\n",
    "# Create the RandomizedSearchCV object\n",
    "random_search = RandomizedSearchCV(xgb_model, param_distributions=param_dist, n_iter=10, cv=5, scoring='neg_mean_absolute_error')\n",
    "\n",
    "# Fit the RandomizedSearchCV object to the training data\n",
    "random_search.fit(X_train, y_train)\n",
    "\n",
    "# Print the best set of hyperparameters and the corresponding score\n",
    "print(\"Best set of hyperparameters: \", random_search.best_params_)\n",
    "print(\"Best RMSE: \", random_search.best_score_)"
   ]
  },
  {
   "cell_type": "markdown",
   "metadata": {},
   "source": [
    "Now that we know some good parameters, we insert them into a new model, retrain and show the importance per feature."
   ]
  },
  {
   "cell_type": "code",
   "execution_count": 59,
   "metadata": {},
   "outputs": [
    {
     "ename": "NameError",
     "evalue": "name 'plt' is not defined",
     "output_type": "error",
     "traceback": [
      "\u001b[0;31m---------------------------------------------------------------------------\u001b[0m",
      "\u001b[0;31mNameError\u001b[0m                                 Traceback (most recent call last)",
      "Cell \u001b[0;32mIn[59], line 5\u001b[0m\n\u001b[1;32m      2\u001b[0m xgb_model\u001b[38;5;241m.\u001b[39mfit(X_train, y_train)\n\u001b[1;32m      3\u001b[0m sorted_idx \u001b[38;5;241m=\u001b[39m xgb_model\u001b[38;5;241m.\u001b[39mfeature_importances_\u001b[38;5;241m.\u001b[39margsort()\n\u001b[0;32m----> 5\u001b[0m \u001b[43mplt\u001b[49m\u001b[38;5;241m.\u001b[39mfigure(figsize \u001b[38;5;241m=\u001b[39m (\u001b[38;5;241m15\u001b[39m,\u001b[38;5;241m20\u001b[39m))\n\u001b[1;32m      6\u001b[0m plt\u001b[38;5;241m.\u001b[39mbarh(X\u001b[38;5;241m.\u001b[39mcolumns[sorted_idx], xgb_model\u001b[38;5;241m.\u001b[39mfeature_importances_[sorted_idx])\n\u001b[1;32m      7\u001b[0m plt\u001b[38;5;241m.\u001b[39mxlabel(\u001b[38;5;124m\"\u001b[39m\u001b[38;5;124mXgboost Feature Importance\u001b[39m\u001b[38;5;124m\"\u001b[39m)\n",
      "\u001b[0;31mNameError\u001b[0m: name 'plt' is not defined"
     ]
    }
   ],
   "source": [
    "xgb_model = XGBRegressor(**random_search.best_params_) \n",
    "xgb_model.fit(X_train, y_train)\n",
    "sorted_idx = xgb_model.feature_importances_.argsort()\n",
    "\n",
    "plt.figure(figsize = (15,20))\n",
    "plt.barh(X.columns[sorted_idx], xgb_model.feature_importances_[sorted_idx])\n",
    "plt.xlabel(\"Xgboost Feature Importance\")"
   ]
  },
  {
   "cell_type": "code",
   "execution_count": 60,
   "metadata": {},
   "outputs": [
    {
     "data": {
      "text/plain": [
       "array([369.5729 , 735.82996, 414.46228, ..., 250.88449, 250.32478,\n",
       "       159.1323 ], dtype=float32)"
      ]
     },
     "execution_count": 60,
     "metadata": {},
     "output_type": "execute_result"
    }
   ],
   "source": [
    "y_pred = xgb_model.predict(X_test)\n",
    "y_pred"
   ]
  },
  {
   "cell_type": "code",
   "execution_count": 62,
   "metadata": {},
   "outputs": [
    {
     "data": {
      "text/plain": [
       "759.7553568309016"
      ]
     },
     "execution_count": 62,
     "metadata": {},
     "output_type": "execute_result"
    }
   ],
   "source": [
    "from sklearn.metrics import mean_absolute_error\n",
    "\n",
    "mae = mean_absolute_error(y_test, y_pred)\n",
    "mae"
   ]
  },
  {
   "cell_type": "markdown",
   "metadata": {},
   "source": [
    "Steps to consider: \n",
    "- How to handle outliers? "
   ]
  }
 ],
 "metadata": {
  "kernelspec": {
   "display_name": "Python 3",
   "language": "python",
   "name": "python3"
  },
  "language_info": {
   "codemirror_mode": {
    "name": "ipython",
    "version": 3
   },
   "file_extension": ".py",
   "mimetype": "text/x-python",
   "name": "python",
   "nbconvert_exporter": "python",
   "pygments_lexer": "ipython3",
   "version": "3.10.13"
  }
 },
 "nbformat": 4,
 "nbformat_minor": 2
}
